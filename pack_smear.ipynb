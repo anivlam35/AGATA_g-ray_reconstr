{
 "cells": [
  {
   "cell_type": "code",
   "execution_count": 1,
   "id": "ef0b1f3f",
   "metadata": {},
   "outputs": [],
   "source": [
    "import pandas as pd, numpy as np\n",
    "import random\n"
   ]
  },
  {
   "cell_type": "code",
   "execution_count": 2,
   "id": "2bc3407b",
   "metadata": {},
   "outputs": [],
   "source": [
    "def r_calculation(dx, dy, dz):\n",
    "    return np.sqrt(dx ** 2 + dy ** 2 + dz ** 2)\n",
    "\n",
    "def energy_weighted_baryceter_coordinates(row1, row2):\n",
    "        packed_coords = (row1[['x','y','z']].apply(lambda x: x * row1['edep']) +\n",
    "               row2[['x','y','z']].apply(lambda x: x * row2['edep']))/(row1['edep'] + row2['edep'])\n",
    "        packed_coords['edep'] = row1['edep'] + row2['edep']\n",
    "        \n",
    "        return packed_coords\n",
    "\n",
    "def reset_interaction_index(df):\n",
    "    df = df.reset_index()\n",
    "    if 'interaction_num' in df.columns:\n",
    "        df = df.drop('interaction_num', axis=1)\n",
    "    df['interaction_num'] = df.groupby('event_num').cumcount()\n",
    "    df.set_index(['event_num', 'interaction_num'], inplace=True)\n",
    "    return df\n",
    "\n",
    "def dr_calculation(df):\n",
    "    df[['dx','dy','dz']] = df.loc[:,['x','y','z']].groupby(level=0).diff().fillna(0)\n",
    "    df['dr'] = df.apply(lambda x: r_calculation(x.dx, x.dy, x.dz), axis=1)\n",
    "    df = df.drop(['dx','dy','dz'], axis=1)\n",
    "    return df\n",
    "\n",
    "def one_level_packing(df):\n",
    "    df = dr_calculation(df)\n",
    "    #idp - indexes to pack\n",
    "    idp = df.loc[(df.dr <= 5) & (df.dr != 0)].index.tolist()\n",
    "    for indx in idp:\n",
    "        packed_coords = energy_weighted_baryceter_coordinates(df.loc[indx], \n",
    "                                                              df.loc[tuple([indx[0], indx[1] - 1])])\n",
    "        df.loc[indx, ['x', 'y', 'z', 'edep']] = packed_coords.values\n",
    "        df = df.drop(tuple([indx[0], indx[1] - 1]), axis=0)\n",
    "    df = reset_interaction_index(df)\n",
    "    return df"
   ]
  },
  {
   "cell_type": "code",
   "execution_count": 3,
   "id": "7bde8c23",
   "metadata": {
    "scrolled": true
   },
   "outputs": [],
   "source": [
    "file_name = 'scrapped_data_mul1_big'\n",
    "data = pd.read_csv(file_name + '.csv')\n",
    "data = reset_interaction_index(data)\n"
   ]
  },
  {
   "cell_type": "code",
   "execution_count": 4,
   "id": "3a484323",
   "metadata": {
    "scrolled": false
   },
   "outputs": [
    {
     "data": {
      "text/html": [
       "<div>\n",
       "<style scoped>\n",
       "    .dataframe tbody tr th:only-of-type {\n",
       "        vertical-align: middle;\n",
       "    }\n",
       "\n",
       "    .dataframe tbody tr th {\n",
       "        vertical-align: top;\n",
       "    }\n",
       "\n",
       "    .dataframe thead th {\n",
       "        text-align: right;\n",
       "    }\n",
       "</style>\n",
       "<table border=\"1\" class=\"dataframe\">\n",
       "  <thead>\n",
       "    <tr style=\"text-align: right;\">\n",
       "      <th></th>\n",
       "      <th></th>\n",
       "      <th>index</th>\n",
       "      <th>crystal</th>\n",
       "      <th>edep</th>\n",
       "      <th>x</th>\n",
       "      <th>y</th>\n",
       "      <th>z</th>\n",
       "      <th>slice_sect</th>\n",
       "      <th>time</th>\n",
       "    </tr>\n",
       "    <tr>\n",
       "      <th>event_num</th>\n",
       "      <th>interaction_num</th>\n",
       "      <th></th>\n",
       "      <th></th>\n",
       "      <th></th>\n",
       "      <th></th>\n",
       "      <th></th>\n",
       "      <th></th>\n",
       "      <th></th>\n",
       "      <th></th>\n",
       "    </tr>\n",
       "  </thead>\n",
       "  <tbody>\n",
       "    <tr>\n",
       "      <th rowspan=\"3\" valign=\"top\">1</th>\n",
       "      <th>0</th>\n",
       "      <td>0</td>\n",
       "      <td>32</td>\n",
       "      <td>753.417</td>\n",
       "      <td>-158.913</td>\n",
       "      <td>-58.842</td>\n",
       "      <td>-166.293</td>\n",
       "      <td>0</td>\n",
       "      <td>3.791976e+07</td>\n",
       "    </tr>\n",
       "    <tr>\n",
       "      <th>1</th>\n",
       "      <td>1</td>\n",
       "      <td>32</td>\n",
       "      <td>114.153</td>\n",
       "      <td>-158.820</td>\n",
       "      <td>-58.965</td>\n",
       "      <td>-166.193</td>\n",
       "      <td>0</td>\n",
       "      <td>3.791976e+07</td>\n",
       "    </tr>\n",
       "    <tr>\n",
       "      <th>2</th>\n",
       "      <td>2</td>\n",
       "      <td>32</td>\n",
       "      <td>132.430</td>\n",
       "      <td>-159.144</td>\n",
       "      <td>-57.674</td>\n",
       "      <td>-166.140</td>\n",
       "      <td>0</td>\n",
       "      <td>3.791976e+07</td>\n",
       "    </tr>\n",
       "    <tr>\n",
       "      <th rowspan=\"2\" valign=\"top\">2</th>\n",
       "      <th>0</th>\n",
       "      <td>3</td>\n",
       "      <td>27</td>\n",
       "      <td>291.935</td>\n",
       "      <td>-198.950</td>\n",
       "      <td>46.377</td>\n",
       "      <td>-164.869</td>\n",
       "      <td>21</td>\n",
       "      <td>6.244136e+07</td>\n",
       "    </tr>\n",
       "    <tr>\n",
       "      <th>1</th>\n",
       "      <td>4</td>\n",
       "      <td>27</td>\n",
       "      <td>48.468</td>\n",
       "      <td>-235.481</td>\n",
       "      <td>78.621</td>\n",
       "      <td>-173.948</td>\n",
       "      <td>42</td>\n",
       "      <td>6.244136e+07</td>\n",
       "    </tr>\n",
       "    <tr>\n",
       "      <th>...</th>\n",
       "      <th>...</th>\n",
       "      <td>...</td>\n",
       "      <td>...</td>\n",
       "      <td>...</td>\n",
       "      <td>...</td>\n",
       "      <td>...</td>\n",
       "      <td>...</td>\n",
       "      <td>...</td>\n",
       "      <td>...</td>\n",
       "    </tr>\n",
       "    <tr>\n",
       "      <th>58311</th>\n",
       "      <th>6</th>\n",
       "      <td>202402</td>\n",
       "      <td>11</td>\n",
       "      <td>122.433</td>\n",
       "      <td>-47.590</td>\n",
       "      <td>-119.157</td>\n",
       "      <td>-203.353</td>\n",
       "      <td>2</td>\n",
       "      <td>2.098420e+07</td>\n",
       "    </tr>\n",
       "    <tr>\n",
       "      <th rowspan=\"4\" valign=\"top\">58312</th>\n",
       "      <th>0</th>\n",
       "      <td>202403</td>\n",
       "      <td>0</td>\n",
       "      <td>79.860</td>\n",
       "      <td>39.919</td>\n",
       "      <td>13.704</td>\n",
       "      <td>-239.467</td>\n",
       "      <td>3</td>\n",
       "      <td>9.411821e+07</td>\n",
       "    </tr>\n",
       "    <tr>\n",
       "      <th>1</th>\n",
       "      <td>202404</td>\n",
       "      <td>0</td>\n",
       "      <td>520.375</td>\n",
       "      <td>45.456</td>\n",
       "      <td>10.574</td>\n",
       "      <td>-255.642</td>\n",
       "      <td>23</td>\n",
       "      <td>9.411821e+07</td>\n",
       "    </tr>\n",
       "    <tr>\n",
       "      <th>2</th>\n",
       "      <td>202405</td>\n",
       "      <td>0</td>\n",
       "      <td>175.173</td>\n",
       "      <td>43.197</td>\n",
       "      <td>17.493</td>\n",
       "      <td>-260.374</td>\n",
       "      <td>23</td>\n",
       "      <td>9.411821e+07</td>\n",
       "    </tr>\n",
       "    <tr>\n",
       "      <th>3</th>\n",
       "      <td>202406</td>\n",
       "      <td>0</td>\n",
       "      <td>224.593</td>\n",
       "      <td>42.216</td>\n",
       "      <td>17.270</td>\n",
       "      <td>-260.249</td>\n",
       "      <td>23</td>\n",
       "      <td>9.411821e+07</td>\n",
       "    </tr>\n",
       "  </tbody>\n",
       "</table>\n",
       "<p>202407 rows × 8 columns</p>\n",
       "</div>"
      ],
      "text/plain": [
       "                            index  crystal     edep        x        y  \\\n",
       "event_num interaction_num                                               \n",
       "1         0                     0       32  753.417 -158.913  -58.842   \n",
       "          1                     1       32  114.153 -158.820  -58.965   \n",
       "          2                     2       32  132.430 -159.144  -57.674   \n",
       "2         0                     3       27  291.935 -198.950   46.377   \n",
       "          1                     4       27   48.468 -235.481   78.621   \n",
       "...                           ...      ...      ...      ...      ...   \n",
       "58311     6                202402       11  122.433  -47.590 -119.157   \n",
       "58312     0                202403        0   79.860   39.919   13.704   \n",
       "          1                202404        0  520.375   45.456   10.574   \n",
       "          2                202405        0  175.173   43.197   17.493   \n",
       "          3                202406        0  224.593   42.216   17.270   \n",
       "\n",
       "                                 z  slice_sect          time  \n",
       "event_num interaction_num                                     \n",
       "1         0               -166.293           0  3.791976e+07  \n",
       "          1               -166.193           0  3.791976e+07  \n",
       "          2               -166.140           0  3.791976e+07  \n",
       "2         0               -164.869          21  6.244136e+07  \n",
       "          1               -173.948          42  6.244136e+07  \n",
       "...                            ...         ...           ...  \n",
       "58311     6               -203.353           2  2.098420e+07  \n",
       "58312     0               -239.467           3  9.411821e+07  \n",
       "          1               -255.642          23  9.411821e+07  \n",
       "          2               -260.374          23  9.411821e+07  \n",
       "          3               -260.249          23  9.411821e+07  \n",
       "\n",
       "[202407 rows x 8 columns]"
      ]
     },
     "execution_count": 4,
     "metadata": {},
     "output_type": "execute_result"
    }
   ],
   "source": [
    "data"
   ]
  },
  {
   "cell_type": "code",
   "execution_count": 6,
   "id": "3e2c7767",
   "metadata": {
    "scrolled": false
   },
   "outputs": [
    {
     "ename": "KeyboardInterrupt",
     "evalue": "",
     "output_type": "error",
     "traceback": [
      "\u001b[0;31m---------------------------------------------------------------------------\u001b[0m",
      "\u001b[0;31mKeyboardInterrupt\u001b[0m                         Traceback (most recent call last)",
      "Input \u001b[0;32mIn [6]\u001b[0m, in \u001b[0;36m<cell line: 2>\u001b[0;34m()\u001b[0m\n\u001b[1;32m      1\u001b[0m data \u001b[38;5;241m=\u001b[39m dr_calculation(data)\n\u001b[1;32m      2\u001b[0m \u001b[38;5;28;01mwhile\u001b[39;00m \u001b[38;5;129;01mnot\u001b[39;00m data\u001b[38;5;241m.\u001b[39mloc[(data\u001b[38;5;241m.\u001b[39mdr \u001b[38;5;241m<\u001b[39m\u001b[38;5;241m=\u001b[39m \u001b[38;5;241m5\u001b[39m) \u001b[38;5;241m&\u001b[39m (data\u001b[38;5;241m.\u001b[39mdr \u001b[38;5;241m!=\u001b[39m \u001b[38;5;241m0\u001b[39m)]\u001b[38;5;241m.\u001b[39mempty:\n\u001b[0;32m----> 3\u001b[0m     data \u001b[38;5;241m=\u001b[39m \u001b[43mone_level_packing\u001b[49m\u001b[43m(\u001b[49m\u001b[43mdata\u001b[49m\u001b[43m)\u001b[49m\n\u001b[1;32m      4\u001b[0m data \u001b[38;5;241m=\u001b[39m reset_interaction_index(data)\n\u001b[1;32m      5\u001b[0m data \u001b[38;5;241m=\u001b[39m data\u001b[38;5;241m.\u001b[39mdrop(\u001b[38;5;124m'\u001b[39m\u001b[38;5;124mdr\u001b[39m\u001b[38;5;124m'\u001b[39m, axis\u001b[38;5;241m=\u001b[39m\u001b[38;5;241m1\u001b[39m)\n",
      "Input \u001b[0;32mIn [2]\u001b[0m, in \u001b[0;36mone_level_packing\u001b[0;34m(df)\u001b[0m\n\u001b[1;32m     30\u001b[0m     packed_coords \u001b[38;5;241m=\u001b[39m energy_weighted_baryceter_coordinates(df\u001b[38;5;241m.\u001b[39mloc[indx], \n\u001b[1;32m     31\u001b[0m                                                           df\u001b[38;5;241m.\u001b[39mloc[\u001b[38;5;28mtuple\u001b[39m([indx[\u001b[38;5;241m0\u001b[39m], indx[\u001b[38;5;241m1\u001b[39m] \u001b[38;5;241m-\u001b[39m \u001b[38;5;241m1\u001b[39m])])\n\u001b[1;32m     32\u001b[0m     df\u001b[38;5;241m.\u001b[39mloc[indx, [\u001b[38;5;124m'\u001b[39m\u001b[38;5;124mx\u001b[39m\u001b[38;5;124m'\u001b[39m, \u001b[38;5;124m'\u001b[39m\u001b[38;5;124my\u001b[39m\u001b[38;5;124m'\u001b[39m, \u001b[38;5;124m'\u001b[39m\u001b[38;5;124mz\u001b[39m\u001b[38;5;124m'\u001b[39m, \u001b[38;5;124m'\u001b[39m\u001b[38;5;124medep\u001b[39m\u001b[38;5;124m'\u001b[39m]] \u001b[38;5;241m=\u001b[39m packed_coords\u001b[38;5;241m.\u001b[39mvalues\n\u001b[0;32m---> 33\u001b[0m     df \u001b[38;5;241m=\u001b[39m \u001b[43mdf\u001b[49m\u001b[38;5;241;43m.\u001b[39;49m\u001b[43mdrop\u001b[49m\u001b[43m(\u001b[49m\u001b[38;5;28;43mtuple\u001b[39;49m\u001b[43m(\u001b[49m\u001b[43m[\u001b[49m\u001b[43mindx\u001b[49m\u001b[43m[\u001b[49m\u001b[38;5;241;43m0\u001b[39;49m\u001b[43m]\u001b[49m\u001b[43m,\u001b[49m\u001b[43m \u001b[49m\u001b[43mindx\u001b[49m\u001b[43m[\u001b[49m\u001b[38;5;241;43m1\u001b[39;49m\u001b[43m]\u001b[49m\u001b[43m \u001b[49m\u001b[38;5;241;43m-\u001b[39;49m\u001b[43m \u001b[49m\u001b[38;5;241;43m1\u001b[39;49m\u001b[43m]\u001b[49m\u001b[43m)\u001b[49m\u001b[43m,\u001b[49m\u001b[43m \u001b[49m\u001b[43maxis\u001b[49m\u001b[38;5;241;43m=\u001b[39;49m\u001b[38;5;241;43m0\u001b[39;49m\u001b[43m)\u001b[49m\n\u001b[1;32m     34\u001b[0m df \u001b[38;5;241m=\u001b[39m reset_interaction_index(df)\n\u001b[1;32m     35\u001b[0m \u001b[38;5;28;01mreturn\u001b[39;00m df\n",
      "File \u001b[0;32m~/.local/lib/python3.8/site-packages/pandas/util/_decorators.py:311\u001b[0m, in \u001b[0;36mdeprecate_nonkeyword_arguments.<locals>.decorate.<locals>.wrapper\u001b[0;34m(*args, **kwargs)\u001b[0m\n\u001b[1;32m    305\u001b[0m \u001b[38;5;28;01mif\u001b[39;00m \u001b[38;5;28mlen\u001b[39m(args) \u001b[38;5;241m>\u001b[39m num_allow_args:\n\u001b[1;32m    306\u001b[0m     warnings\u001b[38;5;241m.\u001b[39mwarn(\n\u001b[1;32m    307\u001b[0m         msg\u001b[38;5;241m.\u001b[39mformat(arguments\u001b[38;5;241m=\u001b[39marguments),\n\u001b[1;32m    308\u001b[0m         \u001b[38;5;167;01mFutureWarning\u001b[39;00m,\n\u001b[1;32m    309\u001b[0m         stacklevel\u001b[38;5;241m=\u001b[39mstacklevel,\n\u001b[1;32m    310\u001b[0m     )\n\u001b[0;32m--> 311\u001b[0m \u001b[38;5;28;01mreturn\u001b[39;00m \u001b[43mfunc\u001b[49m\u001b[43m(\u001b[49m\u001b[38;5;241;43m*\u001b[39;49m\u001b[43margs\u001b[49m\u001b[43m,\u001b[49m\u001b[43m \u001b[49m\u001b[38;5;241;43m*\u001b[39;49m\u001b[38;5;241;43m*\u001b[39;49m\u001b[43mkwargs\u001b[49m\u001b[43m)\u001b[49m\n",
      "File \u001b[0;32m~/.local/lib/python3.8/site-packages/pandas/core/frame.py:4954\u001b[0m, in \u001b[0;36mDataFrame.drop\u001b[0;34m(self, labels, axis, index, columns, level, inplace, errors)\u001b[0m\n\u001b[1;32m   4806\u001b[0m \u001b[38;5;129m@deprecate_nonkeyword_arguments\u001b[39m(version\u001b[38;5;241m=\u001b[39m\u001b[38;5;28;01mNone\u001b[39;00m, allowed_args\u001b[38;5;241m=\u001b[39m[\u001b[38;5;124m\"\u001b[39m\u001b[38;5;124mself\u001b[39m\u001b[38;5;124m\"\u001b[39m, \u001b[38;5;124m\"\u001b[39m\u001b[38;5;124mlabels\u001b[39m\u001b[38;5;124m\"\u001b[39m])\n\u001b[1;32m   4807\u001b[0m \u001b[38;5;28;01mdef\u001b[39;00m \u001b[38;5;21mdrop\u001b[39m(\n\u001b[1;32m   4808\u001b[0m     \u001b[38;5;28mself\u001b[39m,\n\u001b[0;32m   (...)\u001b[0m\n\u001b[1;32m   4815\u001b[0m     errors: \u001b[38;5;28mstr\u001b[39m \u001b[38;5;241m=\u001b[39m \u001b[38;5;124m\"\u001b[39m\u001b[38;5;124mraise\u001b[39m\u001b[38;5;124m\"\u001b[39m,\n\u001b[1;32m   4816\u001b[0m ):\n\u001b[1;32m   4817\u001b[0m     \u001b[38;5;124;03m\"\"\"\u001b[39;00m\n\u001b[1;32m   4818\u001b[0m \u001b[38;5;124;03m    Drop specified labels from rows or columns.\u001b[39;00m\n\u001b[1;32m   4819\u001b[0m \n\u001b[0;32m   (...)\u001b[0m\n\u001b[1;32m   4952\u001b[0m \u001b[38;5;124;03m            weight  1.0     0.8\u001b[39;00m\n\u001b[1;32m   4953\u001b[0m \u001b[38;5;124;03m    \"\"\"\u001b[39;00m\n\u001b[0;32m-> 4954\u001b[0m     \u001b[38;5;28;01mreturn\u001b[39;00m \u001b[38;5;28;43msuper\u001b[39;49m\u001b[43m(\u001b[49m\u001b[43m)\u001b[49m\u001b[38;5;241;43m.\u001b[39;49m\u001b[43mdrop\u001b[49m\u001b[43m(\u001b[49m\n\u001b[1;32m   4955\u001b[0m \u001b[43m        \u001b[49m\u001b[43mlabels\u001b[49m\u001b[38;5;241;43m=\u001b[39;49m\u001b[43mlabels\u001b[49m\u001b[43m,\u001b[49m\n\u001b[1;32m   4956\u001b[0m \u001b[43m        \u001b[49m\u001b[43maxis\u001b[49m\u001b[38;5;241;43m=\u001b[39;49m\u001b[43maxis\u001b[49m\u001b[43m,\u001b[49m\n\u001b[1;32m   4957\u001b[0m \u001b[43m        \u001b[49m\u001b[43mindex\u001b[49m\u001b[38;5;241;43m=\u001b[39;49m\u001b[43mindex\u001b[49m\u001b[43m,\u001b[49m\n\u001b[1;32m   4958\u001b[0m \u001b[43m        \u001b[49m\u001b[43mcolumns\u001b[49m\u001b[38;5;241;43m=\u001b[39;49m\u001b[43mcolumns\u001b[49m\u001b[43m,\u001b[49m\n\u001b[1;32m   4959\u001b[0m \u001b[43m        \u001b[49m\u001b[43mlevel\u001b[49m\u001b[38;5;241;43m=\u001b[39;49m\u001b[43mlevel\u001b[49m\u001b[43m,\u001b[49m\n\u001b[1;32m   4960\u001b[0m \u001b[43m        \u001b[49m\u001b[43minplace\u001b[49m\u001b[38;5;241;43m=\u001b[39;49m\u001b[43minplace\u001b[49m\u001b[43m,\u001b[49m\n\u001b[1;32m   4961\u001b[0m \u001b[43m        \u001b[49m\u001b[43merrors\u001b[49m\u001b[38;5;241;43m=\u001b[39;49m\u001b[43merrors\u001b[49m\u001b[43m,\u001b[49m\n\u001b[1;32m   4962\u001b[0m \u001b[43m    \u001b[49m\u001b[43m)\u001b[49m\n",
      "File \u001b[0;32m~/.local/lib/python3.8/site-packages/pandas/core/generic.py:4267\u001b[0m, in \u001b[0;36mNDFrame.drop\u001b[0;34m(self, labels, axis, index, columns, level, inplace, errors)\u001b[0m\n\u001b[1;32m   4265\u001b[0m \u001b[38;5;28;01mfor\u001b[39;00m axis, labels \u001b[38;5;129;01min\u001b[39;00m axes\u001b[38;5;241m.\u001b[39mitems():\n\u001b[1;32m   4266\u001b[0m     \u001b[38;5;28;01mif\u001b[39;00m labels \u001b[38;5;129;01mis\u001b[39;00m \u001b[38;5;129;01mnot\u001b[39;00m \u001b[38;5;28;01mNone\u001b[39;00m:\n\u001b[0;32m-> 4267\u001b[0m         obj \u001b[38;5;241m=\u001b[39m \u001b[43mobj\u001b[49m\u001b[38;5;241;43m.\u001b[39;49m\u001b[43m_drop_axis\u001b[49m\u001b[43m(\u001b[49m\u001b[43mlabels\u001b[49m\u001b[43m,\u001b[49m\u001b[43m \u001b[49m\u001b[43maxis\u001b[49m\u001b[43m,\u001b[49m\u001b[43m \u001b[49m\u001b[43mlevel\u001b[49m\u001b[38;5;241;43m=\u001b[39;49m\u001b[43mlevel\u001b[49m\u001b[43m,\u001b[49m\u001b[43m \u001b[49m\u001b[43merrors\u001b[49m\u001b[38;5;241;43m=\u001b[39;49m\u001b[43merrors\u001b[49m\u001b[43m)\u001b[49m\n\u001b[1;32m   4269\u001b[0m \u001b[38;5;28;01mif\u001b[39;00m inplace:\n\u001b[1;32m   4270\u001b[0m     \u001b[38;5;28mself\u001b[39m\u001b[38;5;241m.\u001b[39m_update_inplace(obj)\n",
      "File \u001b[0;32m~/.local/lib/python3.8/site-packages/pandas/core/generic.py:4312\u001b[0m, in \u001b[0;36mNDFrame._drop_axis\u001b[0;34m(self, labels, axis, level, errors, consolidate, only_slice)\u001b[0m\n\u001b[1;32m   4310\u001b[0m     \u001b[38;5;28;01melse\u001b[39;00m:\n\u001b[1;32m   4311\u001b[0m         new_axis \u001b[38;5;241m=\u001b[39m axis\u001b[38;5;241m.\u001b[39mdrop(labels, errors\u001b[38;5;241m=\u001b[39merrors)\n\u001b[0;32m-> 4312\u001b[0m     indexer \u001b[38;5;241m=\u001b[39m \u001b[43maxis\u001b[49m\u001b[38;5;241;43m.\u001b[39;49m\u001b[43mget_indexer\u001b[49m\u001b[43m(\u001b[49m\u001b[43mnew_axis\u001b[49m\u001b[43m)\u001b[49m\n\u001b[1;32m   4314\u001b[0m \u001b[38;5;66;03m# Case for non-unique axis\u001b[39;00m\n\u001b[1;32m   4315\u001b[0m \u001b[38;5;28;01melse\u001b[39;00m:\n\u001b[1;32m   4316\u001b[0m     is_tuple_labels \u001b[38;5;241m=\u001b[39m is_nested_list_like(labels) \u001b[38;5;129;01mor\u001b[39;00m \u001b[38;5;28misinstance\u001b[39m(labels, \u001b[38;5;28mtuple\u001b[39m)\n",
      "File \u001b[0;32m~/.local/lib/python3.8/site-packages/pandas/core/indexes/base.py:3784\u001b[0m, in \u001b[0;36mIndex.get_indexer\u001b[0;34m(self, target, method, limit, tolerance)\u001b[0m\n\u001b[1;32m   3779\u001b[0m     target \u001b[38;5;241m=\u001b[39m target\u001b[38;5;241m.\u001b[39mastype(dtype, copy\u001b[38;5;241m=\u001b[39m\u001b[38;5;28;01mFalse\u001b[39;00m)\n\u001b[1;32m   3780\u001b[0m     \u001b[38;5;28;01mreturn\u001b[39;00m this\u001b[38;5;241m.\u001b[39m_get_indexer(\n\u001b[1;32m   3781\u001b[0m         target, method\u001b[38;5;241m=\u001b[39mmethod, limit\u001b[38;5;241m=\u001b[39mlimit, tolerance\u001b[38;5;241m=\u001b[39mtolerance\n\u001b[1;32m   3782\u001b[0m     )\n\u001b[0;32m-> 3784\u001b[0m \u001b[38;5;28;01mreturn\u001b[39;00m \u001b[38;5;28;43mself\u001b[39;49m\u001b[38;5;241;43m.\u001b[39;49m\u001b[43m_get_indexer\u001b[49m\u001b[43m(\u001b[49m\u001b[43mtarget\u001b[49m\u001b[43m,\u001b[49m\u001b[43m \u001b[49m\u001b[43mmethod\u001b[49m\u001b[43m,\u001b[49m\u001b[43m \u001b[49m\u001b[43mlimit\u001b[49m\u001b[43m,\u001b[49m\u001b[43m \u001b[49m\u001b[43mtolerance\u001b[49m\u001b[43m)\u001b[49m\n",
      "File \u001b[0;32m~/.local/lib/python3.8/site-packages/pandas/core/indexes/base.py:3801\u001b[0m, in \u001b[0;36mIndex._get_indexer\u001b[0;34m(self, target, method, limit, tolerance)\u001b[0m\n\u001b[1;32m   3799\u001b[0m     indexer \u001b[38;5;241m=\u001b[39m \u001b[38;5;28mself\u001b[39m\u001b[38;5;241m.\u001b[39m_get_nearest_indexer(target, limit, tolerance)\n\u001b[1;32m   3800\u001b[0m \u001b[38;5;28;01melse\u001b[39;00m:\n\u001b[0;32m-> 3801\u001b[0m     tgt_values \u001b[38;5;241m=\u001b[39m \u001b[43mtarget\u001b[49m\u001b[38;5;241;43m.\u001b[39;49m\u001b[43m_get_engine_target\u001b[49m\u001b[43m(\u001b[49m\u001b[43m)\u001b[49m\n\u001b[1;32m   3802\u001b[0m     \u001b[38;5;28;01mif\u001b[39;00m target\u001b[38;5;241m.\u001b[39m_is_multi \u001b[38;5;129;01mand\u001b[39;00m \u001b[38;5;28mself\u001b[39m\u001b[38;5;241m.\u001b[39m_is_multi:\n\u001b[1;32m   3803\u001b[0m         engine \u001b[38;5;241m=\u001b[39m \u001b[38;5;28mself\u001b[39m\u001b[38;5;241m.\u001b[39m_engine\n",
      "File \u001b[0;32m~/.local/lib/python3.8/site-packages/pandas/core/indexes/base.py:4855\u001b[0m, in \u001b[0;36mIndex._get_engine_target\u001b[0;34m(self)\u001b[0m\n\u001b[1;32m   4852\u001b[0m \u001b[38;5;28;01mif\u001b[39;00m \u001b[38;5;28mtype\u001b[39m(\u001b[38;5;28mself\u001b[39m) \u001b[38;5;129;01mis\u001b[39;00m Index \u001b[38;5;129;01mand\u001b[39;00m \u001b[38;5;28misinstance\u001b[39m(\u001b[38;5;28mself\u001b[39m\u001b[38;5;241m.\u001b[39m_values, ExtensionArray):\n\u001b[1;32m   4853\u001b[0m     \u001b[38;5;66;03m# TODO(ExtensionIndex): remove special-case, just use self._values\u001b[39;00m\n\u001b[1;32m   4854\u001b[0m     \u001b[38;5;28;01mreturn\u001b[39;00m \u001b[38;5;28mself\u001b[39m\u001b[38;5;241m.\u001b[39m_values\u001b[38;5;241m.\u001b[39mastype(\u001b[38;5;28mobject\u001b[39m)\n\u001b[0;32m-> 4855\u001b[0m \u001b[38;5;28;01mreturn\u001b[39;00m \u001b[38;5;28;43mself\u001b[39;49m\u001b[38;5;241;43m.\u001b[39;49m\u001b[43m_values\u001b[49m\n",
      "File \u001b[0;32m~/.local/lib/python3.8/site-packages/pandas/_libs/properties.pyx:37\u001b[0m, in \u001b[0;36mpandas._libs.properties.CachedProperty.__get__\u001b[0;34m()\u001b[0m\n",
      "File \u001b[0;32m~/.local/lib/python3.8/site-packages/pandas/core/indexes/multi.py:714\u001b[0m, in \u001b[0;36mMultiIndex._values\u001b[0;34m(self)\u001b[0m\n\u001b[1;32m    711\u001b[0m     vals \u001b[38;5;241m=\u001b[39m np\u001b[38;5;241m.\u001b[39marray(vals, copy\u001b[38;5;241m=\u001b[39m\u001b[38;5;28;01mFalse\u001b[39;00m)  \u001b[38;5;66;03m# type: ignore[assignment]\u001b[39;00m\n\u001b[1;32m    712\u001b[0m     values\u001b[38;5;241m.\u001b[39mappend(vals)\n\u001b[0;32m--> 714\u001b[0m arr \u001b[38;5;241m=\u001b[39m \u001b[43mlib\u001b[49m\u001b[38;5;241;43m.\u001b[39;49m\u001b[43mfast_zip\u001b[49m\u001b[43m(\u001b[49m\u001b[43mvalues\u001b[49m\u001b[43m)\u001b[49m\n\u001b[1;32m    715\u001b[0m \u001b[38;5;28;01mreturn\u001b[39;00m arr\n",
      "\u001b[0;31mKeyboardInterrupt\u001b[0m: "
     ]
    }
   ],
   "source": [
    "data = dr_calculation(data)\n",
    "while not data.loc[(data.dr <= 5) & (data.dr != 0)].empty:\n",
    "    data = one_level_packing(data)\n",
    "data = reset_interaction_index(data)\n",
    "data = data.drop('dr', axis=1)"
   ]
  },
  {
   "cell_type": "code",
   "execution_count": null,
   "id": "73bcf240",
   "metadata": {
    "scrolled": true
   },
   "outputs": [],
   "source": [
    "data"
   ]
  },
  {
   "cell_type": "code",
   "execution_count": null,
   "id": "9291cffe",
   "metadata": {},
   "outputs": [],
   "source": []
  },
  {
   "cell_type": "code",
   "execution_count": null,
   "id": "902dee16",
   "metadata": {},
   "outputs": [],
   "source": [
    "new_data = data.groupby('event_num').sum('edep')\n",
    "new_data"
   ]
  },
  {
   "cell_type": "code",
   "execution_count": null,
   "id": "e1f789ca",
   "metadata": {
    "scrolled": true
   },
   "outputs": [],
   "source": [
    "new_data['fully_absorbed'] = (new_data.edep == 1000)\n",
    "absorption = new_data['fully_absorbed']"
   ]
  },
  {
   "cell_type": "markdown",
   "id": "215beb10",
   "metadata": {},
   "source": [
    "# Smearing"
   ]
  },
  {
   "cell_type": "code",
   "execution_count": null,
   "id": "8901df87",
   "metadata": {
    "scrolled": true
   },
   "outputs": [],
   "source": [
    "smeared_data = data.copy()\n",
    "smeared_data[['x', 'y', 'z']] = smeared_data[['x', 'y', 'z']].apply(lambda x: x / 10)\n",
    "# smeared_data['edep'] = smeared_data['edep'].apply(lambda x: x / 1000)\n",
    "smeared_data"
   ]
  },
  {
   "cell_type": "code",
   "execution_count": null,
   "id": "1117d5cd",
   "metadata": {},
   "outputs": [],
   "source": [
    "def position_sigma_distribution(energy):\n",
    "    return (.27+.62*np.sqrt(0.1/energy))/2.35\n",
    "def energy_sigma_distribution(energy):\n",
    "    res_at_1333 =2.43;\n",
    "    return np.sqrt(1 + energy*res_at_1333)/2.35\n",
    "def gaussian(x, sigma):\n",
    "    return round(random.gauss(x, sigma), 3)"
   ]
  },
  {
   "cell_type": "code",
   "execution_count": null,
   "id": "075a82c3",
   "metadata": {
    "scrolled": false
   },
   "outputs": [],
   "source": [
    "smeared_data[['x', 'y', 'z']] = smeared_data[['x', 'y', 'z']].apply(\n",
    "    lambda x_i: gaussian(x_i, position_sigma_distribution(smeared_data.edep)))\n",
    "smeared_data['edep'] = smeared_data['edep'].apply(lambda x: gaussian(x, energy_sigma_distribution(x)))\n",
    "smeared_data"
   ]
  },
  {
   "cell_type": "code",
   "execution_count": null,
   "id": "531671dc",
   "metadata": {},
   "outputs": [],
   "source": [
    "# smeared_data.to_csv(file_name + '_PS.csv')"
   ]
  },
  {
   "cell_type": "markdown",
   "id": "1d6ab32d",
   "metadata": {},
   "source": [
    "# Preparing data for Graph making"
   ]
  },
  {
   "cell_type": "code",
   "execution_count": null,
   "id": "df9ad8e5",
   "metadata": {},
   "outputs": [],
   "source": [
    "data_fp = smeared_data.copy()\n",
    "data_fp = data_fp.drop(['index', 'crystal', 'slice_sect'], axis=1)\n",
    "data_fp"
   ]
  },
  {
   "cell_type": "code",
   "execution_count": null,
   "id": "fd1119dc",
   "metadata": {
    "scrolled": false
   },
   "outputs": [],
   "source": [
    "data_fp['node_features'] = data_fp[['edep', 'x', 'y', 'z']].apply(lambda x: np.array([i for i in x]), axis=1)\n",
    "data_fp.time[1][1]"
   ]
  },
  {
   "cell_type": "code",
   "execution_count": null,
   "id": "acf6d69f",
   "metadata": {
    "scrolled": false
   },
   "outputs": [],
   "source": [
    "node_features = data_fp.groupby('event_num').apply(lambda x: np.array([row for row in x.node_features]))\n",
    "node_features "
   ]
  },
  {
   "cell_type": "code",
   "execution_count": null,
   "id": "15b7595a",
   "metadata": {
    "scrolled": false
   },
   "outputs": [],
   "source": [
    "prepared_data = node_features.to_frame().join(absorption.to_frame()).rename(columns={0:'node_features'})\n",
    "prepared_data = prepared_data.loc[prepared_data.node_features.apply(lambda x: len(x) != 1)]\n",
    "\n",
    "prepared_data"
   ]
  },
  {
   "cell_type": "code",
   "execution_count": null,
   "id": "89ff6453",
   "metadata": {},
   "outputs": [],
   "source": [
    "# def adjacency_matrix_creating(l):\n",
    "#     matrix = []\n",
    "#     for i in range(1, l):\n",
    "#         row = [0 for _ in range(l)]\n",
    "#         row[i] = 1\n",
    "#         matrix.append(np.array(row))\n",
    "#     matrix.append(np.array([0 for _ in range(l)]))\n",
    "#     return np.array(matrix)\n",
    "def shuffling_sequence_creating(x):\n",
    "    res_list = list(range(len(x)))\n",
    "    random.shuffle(res_list)\n",
    "    return res_list\n",
    "\n",
    "def nodes_shuffling(seq, node_features):\n",
    "    return np.array([node_features[i] for i in seq])\n",
    "\n",
    "def shuffled_adjacency_matrix(seq):\n",
    "    l = len(seq)\n",
    "    matrix = np.array([np.array([0 for _ in range(l)]) for _ in range(l)])\n",
    "    for k in range(l - 1):\n",
    "        i = seq.index(k)\n",
    "        j = seq.index(k + 1)\n",
    "        matrix[i][j] = 1\n",
    "    return matrix"
   ]
  },
  {
   "cell_type": "code",
   "execution_count": null,
   "id": "136e9d19",
   "metadata": {},
   "outputs": [],
   "source": [
    "prepared_data['shuffling_sequence'] = prepared_data['node_features'].apply(\n",
    "    lambda x: shuffling_sequence_creating(x))\n",
    "prepared_data['adjacency_matrix'] = prepared_data['shuffling_sequence'].apply(\n",
    "    lambda x: shuffled_adjacency_matrix(x))\n",
    "prepared_data['node_features'] = prepared_data.apply(\n",
    "    lambda x: nodes_shuffling(x.shuffling_sequence, x.node_features), axis=1)\n",
    "prepared_data = prepared_data.drop('shuffling_sequence', axis=1)\n",
    "prepared_data.to_json(file_name + '_graph_mode.json')"
   ]
  },
  {
   "cell_type": "markdown",
   "id": "266c1d5f",
   "metadata": {},
   "source": [
    "## Shuffling graphs's nodes"
   ]
  },
  {
   "cell_type": "code",
   "execution_count": null,
   "id": "7586c2b0",
   "metadata": {},
   "outputs": [],
   "source": [
    "# def shuffle_sequence_creating(x):\n",
    "#     res_list = list(range(len(x)))\n",
    "#     random.shuffle(res_list)\n",
    "#     return res_list\n",
    "\n",
    "# def nodes_shuffling(seq, node_features):\n",
    "#     return np.array([node_features[i] for i in seq])\n",
    "\n",
    "# def shuffled_adjacency_matrix(seq):\n",
    "#     l = len(seq)\n",
    "#     matrix = np.array([np.array([0 for _ in range(l)]) for _ in range(l)])\n",
    "#     for k in range(l - 1):\n",
    "#         i = seq.index(k)\n",
    "#         j = seq.index(k + 1)\n",
    "#         matrix[i][j] = 1\n",
    "#     return matrix"
   ]
  },
  {
   "cell_type": "code",
   "execution_count": null,
   "id": "5b09f0b2",
   "metadata": {
    "scrolled": false
   },
   "outputs": [],
   "source": [
    "# prepared_data['shuffle_sequence'] = prepared_data['node_features'].apply(\n",
    "#     lambda x: shuffle_sequence_creating(x))\n",
    "# prepared_data['new_adj_mtrx'] = prepared_data['shuffle_sequence'].apply(lambda x: adj_matrx_shuffling(x))\n",
    "# prepared_data\n",
    "# prepared_data['new_n_ftrs'] = prepared_data[['node_features', 'shuffle_sequence']].apply(\n",
    "#     lambda x: nodes_shuffling(x.shuffle_sequence, x.node_features), axis=1)\n",
    "# prepared_data[['node_features', 'shuffle_sequence', 'new_n_ftrs']].loc[2]"
   ]
  }
 ],
 "metadata": {
  "kernelspec": {
   "display_name": "Python 3 (ipykernel)",
   "language": "python",
   "name": "python3"
  },
  "language_info": {
   "codemirror_mode": {
    "name": "ipython",
    "version": 3
   },
   "file_extension": ".py",
   "mimetype": "text/x-python",
   "name": "python",
   "nbconvert_exporter": "python",
   "pygments_lexer": "ipython3",
   "version": "3.8.10"
  }
 },
 "nbformat": 4,
 "nbformat_minor": 5
}
